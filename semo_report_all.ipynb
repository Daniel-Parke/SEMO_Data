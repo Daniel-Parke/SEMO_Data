{
 "cells": [
  {
   "cell_type": "markdown",
   "metadata": {},
   "source": [
    "## **Download Reports with less than 16 pages of data**"
   ]
  },
  {
   "cell_type": "code",
   "execution_count": 1,
   "metadata": {},
   "outputs": [
    {
     "name": "stderr",
     "output_type": "stream",
     "text": [
      "2024-02-19 00:05:30,160 - INFO - Initializing ReportURLs class.\n",
      "2024-02-19 00:05:30,162 - INFO - Asynchronously generating all URLs for reports.\n",
      "2024-02-19 00:05:34,897 - INFO - Starting to fetch and merge data for all reports.\n",
      "2024-02-19 00:05:34,898 - INFO - Processing 1 URLs for Trading_Day_Ex_Rate.\n",
      "2024-02-19 00:05:35,215 - INFO - Request 1/1 completed for Trading_Day_Ex_Rate.\n",
      "2024-02-19 00:05:35,219 - INFO - Saved Trading_Day_Ex_Rate data to Output_Data\\Trading_Day_Ex_Rate.csv.\n",
      "2024-02-19 00:05:35,219 - INFO - Completed download and merging for Trading_Day_Ex_Rate: 188 items fetched.\n",
      "2024-02-19 00:05:35,220 - INFO - Processing 1 URLs for Unit_Under_Test.\n",
      "2024-02-19 00:05:35,526 - INFO - Request 1/1 completed for Unit_Under_Test.\n",
      "2024-02-19 00:05:35,529 - INFO - Saved Unit_Under_Test data to Output_Data\\Unit_Under_Test.csv.\n",
      "2024-02-19 00:05:35,529 - INFO - Completed download and merging for Unit_Under_Test: 53 items fetched.\n",
      "2024-02-19 00:05:35,530 - INFO - Processing 12 URLs for Aggregated_Contracted_Demand_Quantities.\n",
      "2024-02-19 00:05:38,628 - INFO - Request 12/12 completed for Aggregated_Contracted_Demand_Quantities.\n",
      "2024-02-19 00:05:38,933 - INFO - Request 3/12 completed for Aggregated_Contracted_Demand_Quantities.\n",
      "2024-02-19 00:05:38,940 - INFO - Request 8/12 completed for Aggregated_Contracted_Demand_Quantities.\n",
      "2024-02-19 00:05:38,955 - INFO - Request 9/12 completed for Aggregated_Contracted_Demand_Quantities.\n",
      "2024-02-19 00:05:38,974 - INFO - Request 2/12 completed for Aggregated_Contracted_Demand_Quantities.\n",
      "2024-02-19 00:05:38,986 - INFO - Request 1/12 completed for Aggregated_Contracted_Demand_Quantities.\n",
      "2024-02-19 00:05:39,016 - INFO - Request 10/12 completed for Aggregated_Contracted_Demand_Quantities.\n",
      "2024-02-19 00:05:39,023 - INFO - Request 6/12 completed for Aggregated_Contracted_Demand_Quantities.\n",
      "2024-02-19 00:05:39,034 - INFO - Request 5/12 completed for Aggregated_Contracted_Demand_Quantities.\n",
      "2024-02-19 00:05:39,041 - INFO - Request 11/12 completed for Aggregated_Contracted_Demand_Quantities.\n",
      "2024-02-19 00:05:39,084 - INFO - Request 7/12 completed for Aggregated_Contracted_Demand_Quantities.\n",
      "2024-02-19 00:05:39,240 - INFO - Request 4/12 completed for Aggregated_Contracted_Demand_Quantities.\n",
      "2024-02-19 00:05:39,401 - INFO - Saved Aggregated_Contracted_Demand_Quantities data to Output_Data\\Aggregated_Contracted_Demand_Quantities.csv.\n",
      "2024-02-19 00:05:39,401 - INFO - Completed download and merging for Aggregated_Contracted_Demand_Quantities: 55225 items fetched.\n",
      "2024-02-19 00:05:39,403 - INFO - Processing 1 URLs for Demand_Control.\n",
      "2024-02-19 00:05:39,804 - INFO - Request 1/1 completed for Demand_Control.\n",
      "2024-02-19 00:05:39,829 - INFO - Saved Demand_Control data to Output_Data\\Demand_Control.csv.\n",
      "2024-02-19 00:05:39,829 - INFO - Completed download and merging for Demand_Control: 4320 items fetched.\n",
      "2024-02-19 00:05:39,829 - INFO - Processing 1 URLs for Balance_&_Imbalance_Market_Cost.\n",
      "2024-02-19 00:05:40,321 - INFO - Request 1/1 completed for Balance_&_Imbalance_Market_Cost.\n",
      "2024-02-19 00:05:40,348 - INFO - Saved Balance_&_Imbalance_Market_Cost data to Output_Data\\Balance_&_Imbalance_Market_Cost.csv.\n",
      "2024-02-19 00:05:40,348 - INFO - Completed download and merging for Balance_&_Imbalance_Market_Cost: 4416 items fetched.\n",
      "2024-02-19 00:05:40,349 - INFO - Processing 1 URLs for Imbalance_Price_Report(Imbalance_Settlement_Period).\n",
      "2024-02-19 00:05:40,849 - INFO - Request 1/1 completed for Imbalance_Price_Report(Imbalance_Settlement_Period).\n",
      "2024-02-19 00:05:40,869 - INFO - Saved Imbalance_Price_Report(Imbalance_Settlement_Period) data to Output_Data\\Imbalance_Price_Report(Imbalance_Settlement_Period).csv.\n",
      "2024-02-19 00:05:40,870 - INFO - Completed download and merging for Imbalance_Price_Report(Imbalance_Settlement_Period): 4417 items fetched.\n",
      "2024-02-19 00:05:40,871 - INFO - Processing 2 URLs for Four_Day_Aggregated_Wind_Forecast.\n",
      "2024-02-19 00:05:41,580 - INFO - Request 1/2 completed for Four_Day_Aggregated_Wind_Forecast.\n",
      "2024-02-19 00:05:41,689 - INFO - Request 2/2 completed for Four_Day_Aggregated_Wind_Forecast.\n",
      "2024-02-19 00:05:41,740 - INFO - Saved Four_Day_Aggregated_Wind_Forecast data to Output_Data\\Four_Day_Aggregated_Wind_Forecast.csv.\n",
      "2024-02-19 00:05:41,741 - INFO - Completed download and merging for Four_Day_Aggregated_Wind_Forecast: 9200 items fetched.\n",
      "2024-02-19 00:05:41,742 - INFO - Processing 1 URLs for Interconnector_Flows_&_Residual_Capacity.\n",
      "2024-02-19 00:05:42,138 - INFO - Request 1/1 completed for Interconnector_Flows_&_Residual_Capacity.\n",
      "2024-02-19 00:05:42,156 - INFO - Saved Interconnector_Flows_&_Residual_Capacity data to Output_Data\\Interconnector_Flows_&_Residual_Capacity.csv.\n",
      "2024-02-19 00:05:42,157 - INFO - Completed download and merging for Interconnector_Flows_&_Residual_Capacity: 2704 items fetched.\n",
      "2024-02-19 00:05:42,157 - INFO - Processing 2 URLs for Aggregated_Wind_Forecast.\n",
      "2024-02-19 00:05:42,820 - INFO - Request 2/2 completed for Aggregated_Wind_Forecast.\n",
      "2024-02-19 00:05:42,836 - INFO - Request 1/2 completed for Aggregated_Wind_Forecast.\n",
      "2024-02-19 00:05:42,868 - INFO - Saved Aggregated_Wind_Forecast data to Output_Data\\Aggregated_Wind_Forecast.csv.\n",
      "2024-02-19 00:05:42,869 - INFO - Completed download and merging for Aggregated_Wind_Forecast: 9200 items fetched.\n",
      "2024-02-19 00:05:42,869 - INFO - Processing 1 URLs for Average_System_Frequency.\n",
      "2024-02-19 00:05:43,376 - INFO - Request 1/1 completed for Average_System_Frequency.\n",
      "2024-02-19 00:05:43,398 - INFO - Saved Average_System_Frequency data to Output_Data\\Average_System_Frequency.csv.\n",
      "2024-02-19 00:05:43,399 - INFO - Completed download and merging for Average_System_Frequency: 4224 items fetched.\n",
      "2024-02-19 00:05:43,399 - INFO - Processing 12 URLs for Aggregated_Contracted_Generation_Quantities.\n",
      "2024-02-19 00:05:46,411 - INFO - Request 12/12 completed for Aggregated_Contracted_Generation_Quantities.\n",
      "2024-02-19 00:05:46,495 - INFO - Request 1/12 completed for Aggregated_Contracted_Generation_Quantities.\n",
      "2024-02-19 00:05:46,565 - INFO - Request 4/12 completed for Aggregated_Contracted_Generation_Quantities.\n",
      "2024-02-19 00:05:46,604 - INFO - Request 6/12 completed for Aggregated_Contracted_Generation_Quantities.\n",
      "2024-02-19 00:05:46,613 - INFO - Request 7/12 completed for Aggregated_Contracted_Generation_Quantities.\n",
      "2024-02-19 00:05:46,636 - INFO - Request 3/12 completed for Aggregated_Contracted_Generation_Quantities.\n",
      "2024-02-19 00:05:46,791 - INFO - Request 8/12 completed for Aggregated_Contracted_Generation_Quantities.\n",
      "2024-02-19 00:05:46,806 - INFO - Request 2/12 completed for Aggregated_Contracted_Generation_Quantities.\n",
      "2024-02-19 00:05:46,824 - INFO - Request 5/12 completed for Aggregated_Contracted_Generation_Quantities.\n",
      "2024-02-19 00:05:46,843 - INFO - Request 9/12 completed for Aggregated_Contracted_Generation_Quantities.\n",
      "2024-02-19 00:05:46,905 - INFO - Request 10/12 completed for Aggregated_Contracted_Generation_Quantities.\n",
      "2024-02-19 00:05:46,982 - INFO - Request 11/12 completed for Aggregated_Contracted_Generation_Quantities.\n",
      "2024-02-19 00:05:47,155 - INFO - Saved Aggregated_Contracted_Generation_Quantities data to Output_Data\\Aggregated_Contracted_Generation_Quantities.csv.\n",
      "2024-02-19 00:05:47,156 - INFO - Completed download and merging for Aggregated_Contracted_Generation_Quantities: 55239 items fetched.\n",
      "2024-02-19 00:05:47,156 - INFO - Processing 12 URLs for Aggregated_Contracted_Wind_Quantities.\n",
      "2024-02-19 00:05:50,141 - INFO - Request 12/12 completed for Aggregated_Contracted_Wind_Quantities.\n",
      "2024-02-19 00:05:50,203 - INFO - Request 7/12 completed for Aggregated_Contracted_Wind_Quantities.\n",
      "2024-02-19 00:05:50,223 - INFO - Request 5/12 completed for Aggregated_Contracted_Wind_Quantities.\n",
      "2024-02-19 00:05:50,369 - INFO - Request 2/12 completed for Aggregated_Contracted_Wind_Quantities.\n",
      "2024-02-19 00:05:50,420 - INFO - Request 3/12 completed for Aggregated_Contracted_Wind_Quantities.\n",
      "2024-02-19 00:05:50,437 - INFO - Request 4/12 completed for Aggregated_Contracted_Wind_Quantities.\n",
      "2024-02-19 00:05:50,588 - INFO - Request 6/12 completed for Aggregated_Contracted_Wind_Quantities.\n",
      "2024-02-19 00:05:50,650 - INFO - Request 11/12 completed for Aggregated_Contracted_Wind_Quantities.\n",
      "2024-02-19 00:05:50,671 - INFO - Request 10/12 completed for Aggregated_Contracted_Wind_Quantities.\n",
      "2024-02-19 00:05:50,681 - INFO - Request 9/12 completed for Aggregated_Contracted_Wind_Quantities.\n",
      "2024-02-19 00:05:50,686 - INFO - Request 8/12 completed for Aggregated_Contracted_Wind_Quantities.\n",
      "2024-02-19 00:05:50,693 - INFO - Request 1/12 completed for Aggregated_Contracted_Wind_Quantities.\n",
      "2024-02-19 00:05:50,861 - INFO - Saved Aggregated_Contracted_Wind_Quantities data to Output_Data\\Aggregated_Contracted_Wind_Quantities.csv.\n",
      "2024-02-19 00:05:50,863 - INFO - Completed download and merging for Aggregated_Contracted_Wind_Quantities: 55263 items fetched.\n",
      "2024-02-19 00:05:50,864 - INFO - Processing 1 URLs for Daily_Load_Forecast_Summary.\n",
      "2024-02-19 00:05:51,281 - INFO - Request 1/1 completed for Daily_Load_Forecast_Summary.\n",
      "2024-02-19 00:05:51,311 - INFO - Saved Daily_Load_Forecast_Summary data to Output_Data\\Daily_Load_Forecast_Summary.csv.\n",
      "2024-02-19 00:05:51,313 - INFO - Completed download and merging for Daily_Load_Forecast_Summary: 4512 items fetched.\n",
      "2024-02-19 00:05:51,313 - INFO - Processing 1 URLs for Forecast_Imbalance.\n",
      "2024-02-19 00:05:51,743 - INFO - Request 1/1 completed for Forecast_Imbalance.\n",
      "2024-02-19 00:05:51,778 - INFO - Saved Forecast_Imbalance data to Output_Data\\Forecast_Imbalance.csv.\n",
      "2024-02-19 00:05:51,778 - INFO - Completed download and merging for Forecast_Imbalance: 4418 items fetched.\n",
      "2024-02-19 00:05:51,779 - INFO - Processing 6 URLs for Imbalance_Price_Report(Imbalance_Pricing_Period).\n",
      "2024-02-19 00:05:53,460 - INFO - Request 6/6 completed for Imbalance_Price_Report(Imbalance_Pricing_Period).\n",
      "2024-02-19 00:05:53,533 - INFO - Request 3/6 completed for Imbalance_Price_Report(Imbalance_Pricing_Period).\n",
      "2024-02-19 00:05:53,870 - INFO - Request 5/6 completed for Imbalance_Price_Report(Imbalance_Pricing_Period).\n",
      "2024-02-19 00:05:53,984 - INFO - Request 2/6 completed for Imbalance_Price_Report(Imbalance_Pricing_Period).\n",
      "2024-02-19 00:05:54,003 - INFO - Request 1/6 completed for Imbalance_Price_Report(Imbalance_Pricing_Period).\n",
      "2024-02-19 00:05:54,084 - INFO - Request 4/6 completed for Imbalance_Price_Report(Imbalance_Pricing_Period).\n",
      "2024-02-19 00:05:54,318 - INFO - Saved Imbalance_Price_Report(Imbalance_Pricing_Period) data to Output_Data\\Imbalance_Price_Report(Imbalance_Pricing_Period).csv.\n",
      "2024-02-19 00:05:54,319 - INFO - Completed download and merging for Imbalance_Price_Report(Imbalance_Pricing_Period): 26501 items fetched.\n"
     ]
    },
    {
     "name": "stdout",
     "output_type": "stream",
     "text": [
      "***********************************************************************\n",
      "Reports successfully downloaded!!!\n",
      "************************************************************************\n"
     ]
    }
   ],
   "source": [
    "from SEMO_Downloader.semo_report_download import ReportURLs\n",
    "\n",
    "report_urls = ReportURLs(report_list_path='SEMO_Downloader/report_list_short.csv')\n",
    "await report_urls.async_init()\n",
    "print(\"***********************************************************************\")\n",
    "print(\"Reports successfully downloaded!!!\")\n",
    "print(\"************************************************************************\")"
   ]
  },
  {
   "cell_type": "markdown",
   "metadata": {},
   "source": [
    "## **Download Reports with more than 16 pages of data**"
   ]
  },
  {
   "cell_type": "code",
   "execution_count": null,
   "metadata": {},
   "outputs": [],
   "source": [
    "from SEMO_Downloader.semo_report_download import ReportURLs\n",
    "\n",
    "report_urls = ReportURLs(report_list_path='SEMO_Downloader/report_list_long.csv')\n",
    "await report_urls.async_init()\n",
    "print(\"***********************************************************************\")\n",
    "print(\"Reports successfully downloaded!!!\")\n",
    "print(\"************************************************************************\")"
   ]
  },
  {
   "cell_type": "markdown",
   "metadata": {},
   "source": [
    "## **Download all reports**"
   ]
  },
  {
   "cell_type": "code",
   "execution_count": null,
   "metadata": {},
   "outputs": [],
   "source": [
    "from SEMO_Downloader.semo_report_download import ReportURLs\n",
    "\n",
    "report_urls = ReportURLs(report_list_path='SEMO_Downloader/report_list_full.csv')\n",
    "await report_urls.async_init()\n",
    "print(\"***********************************************************************\")\n",
    "print(\"Reports successfully downloaded!!!\")\n",
    "print(\"************************************************************************\")"
   ]
  },
  {
   "cell_type": "code",
   "execution_count": null,
   "metadata": {},
   "outputs": [],
   "source": []
  }
 ],
 "metadata": {
  "kernelspec": {
   "display_name": "Python 3",
   "language": "python",
   "name": "python3"
  },
  "language_info": {
   "codemirror_mode": {
    "name": "ipython",
    "version": 3
   },
   "file_extension": ".py",
   "mimetype": "text/x-python",
   "name": "python",
   "nbconvert_exporter": "python",
   "pygments_lexer": "ipython3",
   "version": "3.11.8"
  }
 },
 "nbformat": 4,
 "nbformat_minor": 2
}
